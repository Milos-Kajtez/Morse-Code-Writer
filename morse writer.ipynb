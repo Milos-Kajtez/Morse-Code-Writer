{
 "cells": [
  {
   "cell_type": "code",
   "execution_count": 1,
   "id": "0cc7087d",
   "metadata": {},
   "outputs": [],
   "source": [
    "writedict = {' ':'/', 'A':'.-', 'B':'-...', 'C':'-.-.', 'D':'-..', 'E':'.', 'F':'..-.', 'G':'--.', 'H':'....', 'I':'..', 'J':'.---',\n",
    "                 'K':'-.-', 'L':'.-..', 'M':'--', 'N':'-.', 'O':'---', 'P':'.--.', 'Q':'--.-', 'R':'.-.', 'S':'...', 'T':'-', 'U':'..-', 'V':'...-', 'W':'.--', 'X':'-..-', 'Y':'-.--', 'Z':'--..', 1:'.----', 2:'..---', 3:'...--', 4:'....-', 5:'.....', 6:'-....', 7:'--...', 8:'---..', 9:'----.', 0:'----' }"
   ]
  },
  {
   "cell_type": "code",
   "execution_count": 2,
   "id": "118fbf01",
   "metadata": {},
   "outputs": [],
   "source": [
    "def write():\n",
    "    \n",
    "    morse = []\n",
    "    \n",
    "    tekst = input('Enter the sentence: ')\n",
    "    \n",
    "    l = list(tekst.upper())\n",
    "    \n",
    "    for i in l:\n",
    "        \n",
    "        morse.append(writedict[i])\n",
    "        \n",
    "    code = ' '.join(morse)\n",
    "    \n",
    "    print('Morse code:')\n",
    "    \n",
    "    print(code)\n",
    "    "
   ]
  },
  {
   "cell_type": "code",
   "execution_count": null,
   "id": "ee8c27e5",
   "metadata": {},
   "outputs": [],
   "source": [
    "translate = True\n",
    "\n",
    "while translate:\n",
    "    \n",
    "    choice = input('Do you want to write a morse code (y or n):')\n",
    "    \n",
    "    if choice.lower() == 'y':\n",
    "        \n",
    "        write()\n",
    "        \n",
    "        continue\n",
    "        \n",
    "    elif choice.lower() == 'n':\n",
    "        \n",
    "        print('Morse writer by Milos <3')\n",
    "        \n",
    "        translate == False\n",
    "        \n",
    "        break"
   ]
  },
  {
   "cell_type": "code",
   "execution_count": null,
   "id": "c5d7c5d0",
   "metadata": {},
   "outputs": [],
   "source": []
  }
 ],
 "metadata": {
  "kernelspec": {
   "display_name": "Python 3 (ipykernel)",
   "language": "python",
   "name": "python3"
  },
  "language_info": {
   "codemirror_mode": {
    "name": "ipython",
    "version": 3
   },
   "file_extension": ".py",
   "mimetype": "text/x-python",
   "name": "python",
   "nbconvert_exporter": "python",
   "pygments_lexer": "ipython3",
   "version": "3.9.12"
  }
 },
 "nbformat": 4,
 "nbformat_minor": 5
}
